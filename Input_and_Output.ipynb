{
 "cells": [
  {
   "cell_type": "markdown",
   "metadata": {},
   "source": [
    "## RECEIVING INPUTS FROM USER\n"
   ]
  },
  {
   "cell_type": "code",
   "execution_count": 1,
   "metadata": {},
   "outputs": [
    {
     "name": "stdout",
     "output_type": "stream",
     "text": [
      "Please enter your first name: Gods´swill\n",
      "Please enter your surname: Nkuwsi\n",
      "Hello  Gods´swill Nkuwsi\n"
     ]
    }
   ],
   "source": [
    "firstName = input(\"Please enter your first name: \")\n",
    "surName = input(\"Please enter your surname: \")\n",
    "print(\"Hello \", firstName, surName)"
   ]
  },
  {
   "cell_type": "code",
   "execution_count": 6,
   "metadata": {},
   "outputs": [
    {
     "name": "stdout",
     "output_type": "stream",
     "text": [
      "Please enter your first number: 79\n",
      "Please enter your second number: 49\n",
      "Please enter the thirst number: 90\n",
      "The sum of the three numbers is:  218\n"
     ]
    }
   ],
   "source": [
    "num1 = int(input(\"Please enter your first number: \"))\n",
    "num2 = int(input(\"Please enter your second number: \"))\n",
    "num3 = int(input(\"Please enter the thirst number: \"))\n",
    "\n",
    "sum = num1+num2+num3\n",
    "print(\"The sum of the three numbers is: \", sum)\n"
   ]
  },
  {
   "cell_type": "code",
   "execution_count": 10,
   "metadata": {},
   "outputs": [
    {
     "name": "stdout",
     "output_type": "stream",
     "text": [
      "Enter the number of slice of piza you started with: 27\n",
      "How many slices have you eaten? 6\n",
      "You have 21 slices remaining\n"
     ]
    }
   ],
   "source": [
    "startNum = int(input(\"Enter the number of slice of piza you started with: \"))\n",
    "endNum = int(input(\"How many slices have you eaten? \"))\n",
    "slicesLeft = startNum - endNum\n",
    "print(\"You have\", slicesLeft, \"slices remaining\")"
   ]
  },
  {
   "cell_type": "code",
   "execution_count": 12,
   "metadata": {},
   "outputs": [
    {
     "name": "stdout",
     "output_type": "stream",
     "text": [
      "what is your name? God´swill Nkwusi\n",
      "How old are you? 37\n",
      "God´swill Nkwusi next birthday you will be  38\n"
     ]
    }
   ],
   "source": [
    "name = input(\"what is your name? \")\n",
    "age = int(input(\"How old are you? \"))\n",
    "\n",
    "newAge = age + 1\n",
    "print(name, \"next birthday you will be \", newAge)\n"
   ]
  }
 ],
 "metadata": {
  "kernelspec": {
   "display_name": "Python 3",
   "language": "python",
   "name": "python3"
  },
  "language_info": {
   "codemirror_mode": {
    "name": "ipython",
    "version": 3
   },
   "file_extension": ".py",
   "mimetype": "text/x-python",
   "name": "python",
   "nbconvert_exporter": "python",
   "pygments_lexer": "ipython3",
   "version": "3.7.3"
  }
 },
 "nbformat": 4,
 "nbformat_minor": 2
}
