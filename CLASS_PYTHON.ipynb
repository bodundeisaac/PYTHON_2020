{
 "cells": [
  {
   "cell_type": "code",
   "execution_count": 2,
   "metadata": {},
   "outputs": [],
   "source": [
    "'''\n",
    "Before understanding the \"self\" and \"__init__\" methods in python class, it's very helpful if we have the idea of what is a class and object.\n",
    "\n",
    "Class :\n",
    "Class is a set or category of things having some property or attribute in common and differentiated from others by kind, type, or quality.\n",
    "\n",
    "In technical terms we can say that class is a blue print for individual objects with exact behaviour.\n",
    "\n",
    "Object :\n",
    "object is one of instances of the class. which can perform the functionalities which are defined in the class.\n",
    "\n",
    "self :\n",
    "self represents the instance of the class. By using the \"self\" keyword we can access the attributes and methods of the class in python.\n",
    "\n",
    "__init__ :\n",
    "\"__init__\" is a reseved method in python classes. It is known as a constructor in object oriented concepts. This method called when an object is created from the class and it allow the class to initialize the attributes of a class.\n",
    "\n",
    "How can we use  \"__init__ \" ?\n",
    "        \n",
    " Let's consider that you are creating a NFS game. for that we should have a car. Car can have attributes like \"color\", \"company\", \"speed_limit\" etc. and methods like \"change_gear\", \"start\", \"accelarate\", \"move\" etc.\n",
    "\n",
    "'''"
   ]
  },
  {
   "cell_type": "code",
   "execution_count": null,
   "metadata": {},
   "outputs": [],
   "source": []
  },
  {
   "cell_type": "code",
   "execution_count": 1,
   "metadata": {},
   "outputs": [],
   "source": [
    "#Create a student class, \n",
    "#club...list\n",
    "#Honor -...boolen\n",
    "class student:\n",
    "    def __init__(self, name, overall_score):\n",
    "        self.__name = name\n",
    "        self.__overall_score = overall_score\n",
    "        self.__clubs = set()\n",
    "        self.__is_honors_student = True\n",
    "    def change_name(self, name):\n",
    "        self.__name = name\n",
    "    def change_score(self, overall_score):\n",
    "        self.__overall_score = overall_score\n",
    "    def add_club(self, club):\n",
    "        self.__clubs.add(club)\n",
    "    def change_is_honors_student(self, is_honors_student):\n",
    "        self.__is_honors_student = is_honors_student\n",
    "    def print_all(self):\n",
    "        print(self.__name, self.__overall_score, self.__clubs, self.__is_honors_student)\n",
    "s = student('Isaac', 87)\n",
    "#s.add_club('Yoga')\n",
    "#s.print_all()\n",
    "\n",
    "        \n",
    "\n",
    "\n"
   ]
  },
  {
   "cell_type": "code",
   "execution_count": 3,
   "metadata": {},
   "outputs": [
    {
     "name": "stdout",
     "output_type": "stream",
     "text": [
      "Isaac 87 {'Yoga'} True\n"
     ]
    }
   ],
   "source": [
    "s.print_all()"
   ]
  },
  {
   "cell_type": "code",
   "execution_count": 4,
   "metadata": {},
   "outputs": [],
   "source": [
    "s.add_club('yoga')"
   ]
  },
  {
   "cell_type": "code",
   "execution_count": 5,
   "metadata": {},
   "outputs": [
    {
     "name": "stdout",
     "output_type": "stream",
     "text": [
      "Isaac 87 {'Yoga', 'yoga'} True\n"
     ]
    }
   ],
   "source": [
    "s.print_all()"
   ]
  },
  {
   "cell_type": "code",
   "execution_count": 39,
   "metadata": {},
   "outputs": [],
   "source": [
    "student_details_list = (\n",
    "    {'name': 'Sina', 'overall_score': 89, 'clubs':('yoga', 'chess')},\n",
    "    {'name': 'chandi', 'overll_score': 56, 'clubs': ['yoga'], 'is_honors_student': True},\n",
    "    {'name': 'Ajayi', 'overll_score': 96, 'clubs': ['baddy', 'chess']},\n",
    "    {'name': 'Kemi', 'overll_score': 71, 'is_honors_student': Fal}\n",
    ")"
   ]
  },
  {
   "cell_type": "code",
   "execution_count": 6,
   "metadata": {},
   "outputs": [],
   "source": [
    "#Create a list of students from a list of dictionaries with student details"
   ]
  },
  {
   "cell_type": "code",
   "execution_count": 52,
   "metadata": {},
   "outputs": [],
   "source": [
    "def get_students(student_details_list):\n",
    "    students_list =[]\n",
    "    \n",
    "    for student_details in student_details_list:\n",
    "        \n",
    "        if 'name' not in student_details or 'overall_score' not in student_details:\n",
    "            continue\n",
    "        s = Student(student_details['name'], student_details['overall_score'])\n",
    "        \n",
    "        if 'clubs' in student_details:\n",
    "            for club in student_details['clubs']:\n",
    "                  s.add_club(club)\n",
    "          \n",
    "            \n",
    "        if 'is_honors_student' in student_details:\n",
    "            s.change_is_honors_student(student_details['is_honors_student'])\n",
    "            \n",
    "        students_list.append(s)\n",
    "            \n",
    "       \n",
    "        \n",
    "    return students_list\n",
    "       \n",
    "        "
   ]
  },
  {
   "cell_type": "code",
   "execution_count": 53,
   "metadata": {},
   "outputs": [],
   "source": [
    "students = get_students(student_details_list)"
   ]
  },
  {
   "cell_type": "code",
   "execution_count": 54,
   "metadata": {},
   "outputs": [
    {
     "data": {
      "text/plain": [
       "[<__main__.Student at 0x250e06b1208>]"
      ]
     },
     "execution_count": 54,
     "metadata": {},
     "output_type": "execute_result"
    }
   ],
   "source": [
    "students"
   ]
  },
  {
   "cell_type": "code",
   "execution_count": 38,
   "metadata": {},
   "outputs": [
    {
     "name": "stdout",
     "output_type": "stream",
     "text": [
      "Sina 89 {'chess', 'yoga'} True\n"
     ]
    }
   ],
   "source": [
    "for student in students:\n",
    "    student.print_all()"
   ]
  },
  {
   "cell_type": "code",
   "execution_count": 45,
   "metadata": {},
   "outputs": [],
   "source": [
    "#Set up a Circle class which takes in a radius and has methods to calculate the area and perimeter of the circle"
   ]
  },
  {
   "cell_type": "code",
   "execution_count": 48,
   "metadata": {},
   "outputs": [],
   "source": [
    "import math\n",
    "class Circle:\n",
    "    \n",
    "    def __init__(self, radius):\n",
    "        self.__radius = radius\n",
    "        \n",
    "    def get_area(self):\n",
    "        return math.pi * self.__radius * self.__radius\n",
    "    \n",
    "    def get_perimeter(self):\n",
    "        return 2*math.pi*self.__radius"
   ]
  },
  {
   "cell_type": "code",
   "execution_count": 49,
   "metadata": {},
   "outputs": [],
   "source": [
    "c = Circle(12)"
   ]
  },
  {
   "cell_type": "code",
   "execution_count": 51,
   "metadata": {},
   "outputs": [
    {
     "data": {
      "text/plain": [
       "(452.3893421169302, 75.39822368615503)"
      ]
     },
     "execution_count": 51,
     "metadata": {},
     "output_type": "execute_result"
    }
   ],
   "source": [
    "c.get_area() ,c.get_perimeter()"
   ]
  },
  {
   "cell_type": "code",
   "execution_count": 66,
   "metadata": {},
   "outputs": [],
   "source": [
    "class Car(object):\n",
    "    def __init__(self, model, color, company,speed_limit):\n",
    "        self.color = color\n",
    "        self.company = company\n",
    "        self.speed_limit = speed_limit\n",
    "        self.model = model\n",
    "    def start(self):\n",
    "        print(\"started\")\n",
    "    def stop(self):\n",
    "        print(\"stopped\")\n",
    "        \n",
    "    def accelerate(self):\n",
    "        print(\"accelerating...\")\n",
    "        \n",
    "    def change_gear(self, gear_type):\n",
    "        print(\"gear changed\")\n",
    "    "
   ]
  },
  {
   "cell_type": "code",
   "execution_count": 67,
   "metadata": {},
   "outputs": [],
   "source": [
    "maruthi_suzuki = Car(\"ertiga\", \"black\", \"suzuki\", 60)"
   ]
  },
  {
   "cell_type": "code",
   "execution_count": 68,
   "metadata": {},
   "outputs": [
    {
     "data": {
      "text/plain": [
       "<__main__.Car at 0x250e0747550>"
      ]
     },
     "execution_count": 68,
     "metadata": {},
     "output_type": "execute_result"
    }
   ],
   "source": [
    "maruthi_suzuki"
   ]
  },
  {
   "cell_type": "code",
   "execution_count": 69,
   "metadata": {},
   "outputs": [],
   "source": [
    "audi = Car(\"A6\", \"red\", \"audi\", 80)"
   ]
  },
  {
   "cell_type": "code",
   "execution_count": 74,
   "metadata": {},
   "outputs": [
    {
     "name": "stdout",
     "output_type": "stream",
     "text": [
      "80\n"
     ]
    }
   ],
   "source": [
    "print(audi.speed_limit)"
   ]
  },
  {
   "cell_type": "code",
   "execution_count": 80,
   "metadata": {},
   "outputs": [
    {
     "name": "stdout",
     "output_type": "stream",
     "text": [
      "Area of Rectangle: 20040 cm^2\n",
      "Cost of rectangular field: Rs. 40080000 \n"
     ]
    }
   ],
   "source": [
    "class Rectangle:\n",
    "    def __init__(self, length, breadth, unit_cost=0):\n",
    "   \n",
    "       self.length = length\n",
    "       self.breadth = breadth\n",
    "       self.unit_cost = unit_cost\n",
    "       \n",
    "   \n",
    "    def get_perimeter(self):\n",
    "        return 2 * (self.length + self.breadth)\n",
    "       \n",
    "   \n",
    "    def get_area(self):\n",
    "         return self.length * self.breadth\n",
    "   \n",
    "      \n",
    "    def calculate_cost(self):\n",
    "         area = self.get_area()\n",
    "            #return area * self.unit_cost\n",
    "         return area * self.unit_cost\n",
    "        \n",
    "        \n",
    "      \n",
    "     \n",
    "# breadth = 120 cm, length = 160 cm, 1 cm^2 = Rs 2000\n",
    "r = Rectangle(167, 120, 2000)\n",
    "print(\"Area of Rectangle: %s cm^2\" % (r.get_area()))\n",
    "print(\"Cost of rectangular field: Rs. %s \" %(r.calculate_cost()))"
   ]
  },
  {
   "cell_type": "code",
   "execution_count": 78,
   "metadata": {},
   "outputs": [],
   "source": [
    "#Note: \"r\" is the representation of the object outside of the class\n",
    "#and \"self\"  is the representation of the object inside  the class."
   ]
  },
  {
   "cell_type": "code",
   "execution_count": 79,
   "metadata": {},
   "outputs": [],
   "source": []
  },
  {
   "cell_type": "code",
   "execution_count": null,
   "metadata": {},
   "outputs": [],
   "source": []
  }
 ],
 "metadata": {
  "kernelspec": {
   "display_name": "Python 3",
   "language": "python",
   "name": "python3"
  },
  "language_info": {
   "codemirror_mode": {
    "name": "ipython",
    "version": 3
   },
   "file_extension": ".py",
   "mimetype": "text/x-python",
   "name": "python",
   "nbconvert_exporter": "python",
   "pygments_lexer": "ipython3",
   "version": "3.7.3"
  }
 },
 "nbformat": 4,
 "nbformat_minor": 2
}
